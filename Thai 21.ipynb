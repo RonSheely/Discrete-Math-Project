{
 "cells": [
  {
   "cell_type": "markdown",
   "metadata": {},
   "source": [
    "# Thai 21"
   ]
  },
  {
   "cell_type": "markdown",
   "metadata": {},
   "source": [
    "Consider the game *Thai 21*, which was featured on the show *Survivor*. Starting with 21 flags, each team alternates taking 1, 2 or 3 flags and the team that takes the last flag wins. We might be tempted to look for a winning strategy by drawing a decision tree starting with 21 flags and then working through all possible games\n",
    "\n",
    "**Round 1**\n",
    "+ Team 1 takes 1, 20 remain\n",
    "+ Team 1 takes 2, 19 remain\n",
    "+ Team 1 takes 3, 18 remain\n",
    "\n",
    "**Round 2**\n",
    "+ Team 1 takes 1, 20 remain\n",
    "    + Team 2 takes 1, 19 remain\n",
    "    + Team 2 takes 2, 18 remain\n",
    "    + Team 2 takes 3, 17 remain  \n",
    "...\n",
    "    \n",
    "**Round 3**\n",
    "+ Team 1 takes 1, 20 remain\n",
    "    + Team 2 takes 1, 19 remain\n",
    "        + Team 1 takes 1, 18 remain\n",
    "        + Team 1 takes 2, 17 remain\n",
    "        + Team 1 takes 3, 16 remain  \n",
    "...\n",
    "\n",
    "By the time we get to round 3, things are already getting out of hand. We quickly realize that with a minimum of seven rounds (7 x 3 = 21) and a maximum of 21 rounds (21 x 1) this will be a monumental task. We definitely need to use our mathematical intuition rather than brute force. There may be other problems though where we do want to attack this computationally. For example\n",
    "\n",
    "+ How many possible ways are there of playing the game to its conclusion?\n",
    "+ Can we explicitly list all of these games?\n",
    "+ What is the distribution of game lengths?\n",
    "+ Assuming that the teams randomly take 1, 2 or 3 flags, is there any advantage to going first?"
   ]
  },
  {
   "cell_type": "markdown",
   "metadata": {},
   "source": [
    "## Computational solution"
   ]
  },
  {
   "cell_type": "markdown",
   "metadata": {},
   "source": [
    "In the code below, we show how to enumerate all possible ways of playing the game to completion. Although the program is short and sweet, the logic is a little tricky and requires that we're comfortable working with lists (and lists of lists), loops, decision making and Python's definition of objects that evaluate as True.\n",
    "\n",
    "Each game is represented by a list of the number of flags removed at each round. An in-progress game is one in which the sum of flags removed is less than 21, while a complete game is one where all 21 have been removed.\n",
    "\n",
    "+ \\[3, 3, 3, 1, 2\\] is a game in progress (sum of flags is only 12)\n",
    "+ \\[1, 2, 3, 3, 3, 3, 3, 3\\] is a complete game (sum of flags is 21)\n",
    "\n",
    "We start by creating empty lists to keep track of the games that are in-progress (sum of flags removed is less than 21) and games that are complete (all 21 flags have been removed). One trick is that our list of in-progress games is not really empty since we initialize it to contain an empty list. Think of the difference between the empty set and the set containing the empty set, $\\emptyset$ vs. {$\\emptyset$}.\n",
    "\n",
    "We loop over these in-progress games and append elements corresponding to the allowed number of flags removed. At each round we test these new games to see if they are in-progress (sum < 21), complete (sum = 21) or invalid (sum > 21). The original in-progress games are removed and replaced with the new in-progress games. The invalid games are ignored and those that sum to 21 are appended to our growing list of complete games. Once the list of in-progress games is empty, we terminate the calculations.\n",
    "\n",
    "For example:\n",
    "\n",
    "+ Round 0\n",
    "    + Start with in-progress games: \\[ \\]\n",
    "    + Create test games: \\[1\\], \\[2\\], \\[3\\]\n",
    "    + Delete in-progress games: \\[ \\] (no longer needed)\n",
    "    + Add to in-progress games: \\[1\\], \\[2\\], \\[3\\]\n",
    "+ Round 1\n",
    "    + Start with in-progress games: \\[1\\], \\[2\\], \\[3\\]\n",
    "    + Create test games: \\[1, 1\\], \\[2, 1\\], \\[3, 1\\], \\[1, 2\\], \\[2, 2\\], \\[3, 2\\], \\[1, 3\\], \\[2, 3\\], \\[3, 3\\]\n",
    "    + Delete in-progress games: \\[1\\], \\[2\\], \\[3\\]\n",
    "    + Add to in-progress games: \\[1, 1\\], \\[2, 1\\], \\[3, 1\\], \\[1, 2\\], \\[2, 2\\], \\[3, 2\\], \\[1, 3\\], \\[2, 3\\], \\[3, 3\\]\n",
    "+ Round 2\n",
    "    + Start with in-progress games: \\[1, 1\\], \\[2, 1\\], \\[3, 1\\], ...\n",
    "    + Create test games: \\[1, 1, 1\\], \\[2, 1, 2\\], \\[3, 1, 2\\], ...\n",
    "    + Delete in-progress games: \\[1, 1\\], \\[2, 1\\], \\[3, 1\\], ...\n",
    "    + Add to in-progress games: \\[1, 1, 1\\], \\[2, 1, 2\\], \\[3, 1, 2\\], ...\n",
    "+ ...\n",
    "+ Round 7 (using single in-progress game for clarity)\n",
    "    + Start with in-progress games: \\[3, 3, 3, 3, 3, 3, 1\\]\n",
    "    + Create test games: \\[3, 3, 3, 3, 3, 3, 1, 1\\], \\[3, 3, 3, 3, 3, 3, 1, 2\\], \\[3, 3, 3, 3, 3, 3, 1, 3\\]\n",
    "    + Delete in-progress games : \\[3, 3, 3, 3, 3, 3, 1\\]\n",
    "    + Add to in-progress games: \\[3, 3, 3, 3, 3, 3, 1, 1\\] (sums to 20)\n",
    "    + Add to complete games: \\[3, 3, 3, 3, 3, 3, 1, 2\\] (sums to 21)\n",
    "    + Ignore invalid games: \\[3, 3, 3, 3, 3, 3, 1, 3\\] (sums to 22)"
   ]
  },
  {
   "cell_type": "code",
   "execution_count": null,
   "metadata": {},
   "outputs": [],
   "source": [
    "complete_games = []\n",
    "inprogress_games = [[]] # Not really empty - list containin an empty list\n",
    "round = 0\n",
    "\n",
    "while inprogress_games:\n",
    "    print('--- round ---', round)\n",
    "    round += 1\n",
    "    testgames = []\n",
    "    for game in inprogress_games:\n",
    "        for i in [1,2,3]:\n",
    "            testgames.append(game + [i])\n",
    "    \n",
    "    inprogress_games = [] # Really is empty\n",
    "    \n",
    "    for testgame in testgames:\n",
    "        if sum(testgame) < 21:\n",
    "            inprogress_games.append(testgame)\n",
    "        elif sum(testgame) == 21:\n",
    "            complete_games.append(testgame)\n",
    "\n",
    "print(len(complete_games))"
   ]
  },
  {
   "cell_type": "code",
   "execution_count": null,
   "metadata": {},
   "outputs": [],
   "source": [
    "for i in range(223217,223317):\n",
    "    print(complete_games[i], len(complete_games[i]))"
   ]
  },
  {
   "cell_type": "code",
   "execution_count": null,
   "metadata": {},
   "outputs": [],
   "source": [
    "for i in range(123217,123317):\n",
    "    print(complete_games[i], len(complete_games[i]))"
   ]
  },
  {
   "cell_type": "code",
   "execution_count": null,
   "metadata": {},
   "outputs": [],
   "source": [
    "neven = 0\n",
    "nodd = 0\n",
    "\n",
    "for game in complete_games:\n",
    "    if len(game)%2 == 0:\n",
    "        neven += 1\n",
    "    else:\n",
    "        nodd += 1\n",
    "        \n",
    "print(neven)\n",
    "print(nodd)\n",
    "print(neven + nodd)"
   ]
  },
  {
   "cell_type": "code",
   "execution_count": null,
   "metadata": {},
   "outputs": [],
   "source": []
  }
 ],
 "metadata": {
  "kernelspec": {
   "display_name": "Python 3",
   "language": "python",
   "name": "python3"
  },
  "language_info": {
   "codemirror_mode": {
    "name": "ipython",
    "version": 3
   },
   "file_extension": ".py",
   "mimetype": "text/x-python",
   "name": "python",
   "nbconvert_exporter": "python",
   "pygments_lexer": "ipython3",
   "version": "3.6.4"
  }
 },
 "nbformat": 4,
 "nbformat_minor": 2
}
