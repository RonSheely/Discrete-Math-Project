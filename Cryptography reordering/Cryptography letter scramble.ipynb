{
 "cells": [
  {
   "cell_type": "markdown",
   "metadata": {},
   "source": [
    "# Cryptography letter scramble"
   ]
  },
  {
   "cell_type": "markdown",
   "metadata": {},
   "source": [
    "In this notebook we explore some of the simple ways that we can encrypt a message to make it harder to read. We start off by creating a function to reverse the order of letters, with the option to leave the leading letters in place. We'll then create a new function that can be used to apply the scrambling process to a complete sentence, word-by-word."
   ]
  },
  {
   "cell_type": "markdown",
   "metadata": {},
   "source": [
    "## Word scrambling"
   ]
  },
  {
   "cell_type": "markdown",
   "metadata": {},
   "source": [
    "The following function will take a single word and scramble the letters. We take string slices to split the word into two parts based on the value of *nskip*, reverse the order of the second part and then glue the two parts back together using the string concatenation operator (+)."
   ]
  },
  {
   "cell_type": "code",
   "execution_count": null,
   "metadata": {},
   "outputs": [],
   "source": [
    "def word_scrambler(mystr, nskip=0):\n",
    "\n",
    "    '''Reverses the order of letters in a string, with the\n",
    "    option to skip leading characters\n",
    "    \n",
    "    Parameters\n",
    "    ----------\n",
    "    mystr : string to be scrambled\n",
    "    nskip : number of characters to skip before scrambling\n",
    "    \n",
    "    Returns\n",
    "    ----------\n",
    "    newstr : scrambled string\n",
    "    '''\n",
    "\n",
    "    part1 = mystr[:nskip]\n",
    "    part2 = mystr[nskip:]\n",
    "    part2 = ''.join(reversed(part2))\n",
    "    newstr = part1 + part2\n",
    "    return newstr"
   ]
  },
  {
   "cell_type": "markdown",
   "metadata": {},
   "source": [
    "Let's apply this function to a string using different choices for the number of letters to skip at the start of the word."
   ]
  },
  {
   "cell_type": "code",
   "execution_count": null,
   "metadata": {},
   "outputs": [],
   "source": [
    "mystr = 'abcdef'\n",
    "\n",
    "for i in range(len(mystr)):\n",
    "    print('nskip = ', i, word_scrambler('abcdef', nskip=i))"
   ]
  },
  {
   "cell_type": "markdown",
   "metadata": {},
   "source": [
    "### Exercise"
   ]
  },
  {
   "cell_type": "markdown",
   "metadata": {},
   "source": [
    "What happens if the number of letters to be skipped is longer than the length of the word? What if a negative value is provided?"
   ]
  },
  {
   "cell_type": "code",
   "execution_count": null,
   "metadata": {},
   "outputs": [],
   "source": []
  },
  {
   "cell_type": "markdown",
   "metadata": {},
   "source": [
    "## Sentence scrambling "
   ]
  },
  {
   "cell_type": "markdown",
   "metadata": {},
   "source": [
    "Programs are often built up by having functions call previously defined functions. The `sentence_scrambler` splits a string into words, applies the `word_scrambler` function to each word and then glues the scrambled words back together into a new scrambled sentence."
   ]
  },
  {
   "cell_type": "code",
   "execution_count": null,
   "metadata": {},
   "outputs": [],
   "source": [
    "def sentence_scrambler(mysent, nskip=0):\n",
    "\n",
    "    '''Scrambles the words in a sentence\n",
    "    \n",
    "    Parameters\n",
    "    ----------\n",
    "    mysent : sentence containing words to be scrambled\n",
    "    nskip : number of characters to skip at start of each word\n",
    "    \n",
    "    Return\n",
    "    ----------\n",
    "    newsent = sentence containing scrambled words\n",
    "    '''\n",
    "    \n",
    "    scrambled_words = []\n",
    "    for word in sentence.split():\n",
    "        word = word_scrambler(word, nskip=nskip)\n",
    "        scrambled_words.append(word)\n",
    "    \n",
    "    newsent = ' '.join(scrambled_words)\n",
    "    return(newsent)"
   ]
  },
  {
   "cell_type": "code",
   "execution_count": null,
   "metadata": {},
   "outputs": [],
   "source": [
    "sentence = 'lets order a pizza for lunch'\n",
    "print(sentence_scrambler(sentence, nskip=2))"
   ]
  },
  {
   "cell_type": "markdown",
   "metadata": {},
   "source": [
    "## Decrypting the scrambled sentence"
   ]
  },
  {
   "cell_type": "markdown",
   "metadata": {},
   "source": [
    "We can recover the original sentence by applying the `sentence_scrambler` a second time using the same choice for *nskip*"
   ]
  },
  {
   "cell_type": "code",
   "execution_count": null,
   "metadata": {},
   "outputs": [],
   "source": [
    "sentence = 'lets order a pizza for lunch'\n",
    "print('Original  :' ,sentence)\n",
    "sentence = sentence_scrambler(sentence, nskip=2)\n",
    "print('Scrambled :', sentence)\n",
    "sentence = sentence_scrambler(sentence, nskip=2)\n",
    "print('Recovered :', sentence)"
   ]
  },
  {
   "cell_type": "markdown",
   "metadata": {},
   "source": [
    "### Exercise"
   ]
  },
  {
   "cell_type": "markdown",
   "metadata": {},
   "source": [
    "Apply `sentence_scrambler` multiple times using different values of *nskip* (i.e. scramble the scrambled sentence). How would you recover the original sentence?"
   ]
  }
 ],
 "metadata": {
  "kernelspec": {
   "display_name": "Python 3",
   "language": "python",
   "name": "python3"
  },
  "language_info": {
   "codemirror_mode": {
    "name": "ipython",
    "version": 3
   },
   "file_extension": ".py",
   "mimetype": "text/x-python",
   "name": "python",
   "nbconvert_exporter": "python",
   "pygments_lexer": "ipython3",
   "version": "3.6.4"
  }
 },
 "nbformat": 4,
 "nbformat_minor": 2
}
