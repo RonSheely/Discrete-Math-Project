{
 "cells": [
  {
   "cell_type": "markdown",
   "metadata": {},
   "source": [
    "# Cryptography letter permutation"
   ]
  },
  {
   "cell_type": "markdown",
   "metadata": {},
   "source": [
    "A permutation cipher operates on a string by taking groups of characters, $n$ at a time, and permuting them using a key of length $n$. For example, given the key \\[3, 1, 2\\], we would take three characters at a time and permute them so that for each block\n",
    "\n",
    "+ 1st letter moves to 3rd position\n",
    "+ 2nd letter moves to 1st position\n",
    "+ 3rd letter moves to 2nd position\n",
    "\n",
    "Applying to the string 'ABCDEF'\n",
    "\n",
    "ABCDEF $\\rightarrow$ blocks: ABC and DEF  \n",
    "ABC $\\rightarrow$ BCA   \n",
    "DEF $\\rightarrow$ EFD  \n",
    "BCA + EFD $\\rightarrow$ BCAEFD\n",
    "\n",
    "We illustrate below how to do this using a short Python function. This gets just a little tricky since we need to handle the possibility that the length of the string is not divisible by the length of the key."
   ]
  },
  {
   "cell_type": "code",
   "execution_count": null,
   "metadata": {},
   "outputs": [],
   "source": [
    "def encrypt(instr, key, decrypt=False):\n",
    "    \n",
    "    '''Apply a permutation cipher to encrypt/decrypt a string\n",
    "    \n",
    "    Parameters\n",
    "    ----------\n",
    "    instr : string to be modified (encrypted/decrypted)\n",
    "    key   : permutation key\n",
    "    decrypt : True --> decrypt, False --> encrypt\n",
    "    \n",
    "    Return\n",
    "    ----------\n",
    "    outstr = encrypted/decrypted string\n",
    "    '''\n",
    "    \n",
    "    # Get the lengths of the key and string\n",
    "    lkey = len(key)\n",
    "    lstr = len(pstr)\n",
    "    \n",
    "    # Initialize array to store the permuted block of letters\n",
    "    # and the variable that will store the [en/de]crypted string\n",
    "    pblock = [''] * lkey\n",
    "    outstr = ''\n",
    "\n",
    "    # Step through the string using a stride equal to the\n",
    "    # length of the key. The 2nd argument to the range\n",
    "    # function ensures that we only operate on the portion of\n",
    "    # the string divisible by the key length. Permute each block\n",
    "    # of charcters and append to output string\n",
    "    \n",
    "    for i in range(0, lstr//lkey * lkey, lkey):\n",
    "        block = instr[i:i+lkey]\n",
    "        if decrypt:\n",
    "            for j in range(lkey):\n",
    "                pblock[j] = block[key[j]-1]\n",
    "        else:\n",
    "            for j in range(lkey):\n",
    "                pblock[key[j]-1] = block[j]\n",
    "        outstr += ''.join(pblock)\n",
    "        \n",
    "    # Append the tail of the string\n",
    "    outstr += instr[lstr//lkey * lkey:]\n",
    "    return outstr"
   ]
  },
  {
   "cell_type": "code",
   "execution_count": null,
   "metadata": {},
   "outputs": [],
   "source": [
    "pstr = 'THIS IS A PERMUTATION CIPHER'\n",
    "key = [3, 1, 4, 2]\n",
    "\n",
    "estr = encrypt(pstr, key, decrypt=False)\n",
    "dstr = encrypt(estr, key, decrypt=True)\n",
    "\n",
    "print('Original string: ', pstr)\n",
    "print('Encrypted string:', estr)\n",
    "print('Decrypted string:', dstr)"
   ]
  },
  {
   "cell_type": "code",
   "execution_count": null,
   "metadata": {},
   "outputs": [],
   "source": []
  }
 ],
 "metadata": {
  "kernelspec": {
   "display_name": "Python 3",
   "language": "python",
   "name": "python3"
  },
  "language_info": {
   "codemirror_mode": {
    "name": "ipython",
    "version": 3
   },
   "file_extension": ".py",
   "mimetype": "text/x-python",
   "name": "python",
   "nbconvert_exporter": "python",
   "pygments_lexer": "ipython3",
   "version": "3.6.4"
  }
 },
 "nbformat": 4,
 "nbformat_minor": 2
}
