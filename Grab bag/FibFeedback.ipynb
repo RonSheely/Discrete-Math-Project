{
 "cells": [
  {
   "cell_type": "code",
   "execution_count": 4,
   "metadata": {},
   "outputs": [
    {
     "name": "stdout",
     "output_type": "stream",
     "text": [
      "Original\n",
      "[1, 1, 2, 3, 5, 8, 13, 21, 34, 55]\n",
      "[1, 1]\n",
      "[1, 1]\n",
      "[1, 1]\n",
      "[1, 1, 2]\n",
      "\n",
      "Updated\n",
      "[1, 1, 2, 3, 5, 8, 13, 21, 34, 55]\n",
      "None\n",
      "[1]\n",
      "[1, 1]\n",
      "[1, 1, 2]\n"
     ]
    }
   ],
   "source": [
    "def fibseq(nmax):\n",
    "    F0, F1, F2 = 0, 1, 1\n",
    "    F = [0, F1, F2]\n",
    "    for i in range(3,nmax+1):\n",
    "        Fnext = F[i-1] + F[i-2]\n",
    "        F.append(Fnext)\n",
    "    F.pop(0)\n",
    "    return(F)\n",
    "\n",
    "# Feedback:\n",
    "# Do not need F0 or first 0.\n",
    "# Start at 2 to nmax instead if removing F0.\n",
    "# Need to handle case of nmax=1.\n",
    "# Handle error case of 0 or less.\n",
    "\n",
    "\n",
    "def fibseq2(nmax):\n",
    "    F1, F2 = 1, 1\n",
    "    F = [F1, F2]\n",
    "    \n",
    "    # Handle invalid 0 or less case\n",
    "    if nmax<=0:\n",
    "        return\n",
    "    \n",
    "    # Handle nmax is 1 case\n",
    "    if nmax==1:\n",
    "        F.pop(0)\n",
    "        return F\n",
    "    \n",
    "    # Updated for loop with removal of F0\n",
    "    for i in range(2,nmax):\n",
    "        Fnext = F[i-1] + F[i-2]\n",
    "        F.append(Fnext)\n",
    "        \n",
    "    return(F)\n",
    "\n",
    "# Original function tests\n",
    "print(\"Original\")\n",
    "myfib = fibseq(10)\n",
    "print(myfib)\n",
    "\n",
    "print(fibseq(0))\n",
    "print(fibseq(1))\n",
    "print(fibseq(2))\n",
    "print(fibseq(3))\n",
    "\n",
    "# newline\n",
    "print()\n",
    "\n",
    "# Updated function tests\n",
    "print(\"Updated\")\n",
    "myfib = fibseq2(10)\n",
    "print(myfib)\n",
    "print(fibseq2(0))\n",
    "print(fibseq2(1))\n",
    "print(fibseq2(2))\n",
    "print(fibseq2(3))\n",
    "\n",
    "\n",
    "\n",
    "\n"
   ]
  },
  {
   "cell_type": "code",
   "execution_count": null,
   "metadata": {},
   "outputs": [],
   "source": []
  }
 ],
 "metadata": {
  "kernelspec": {
   "display_name": "Python 3",
   "language": "python",
   "name": "python3"
  },
  "language_info": {
   "codemirror_mode": {
    "name": "ipython",
    "version": 3
   },
   "file_extension": ".py",
   "mimetype": "text/x-python",
   "name": "python",
   "nbconvert_exporter": "python",
   "pygments_lexer": "ipython3",
   "version": "3.7.6"
  }
 },
 "nbformat": 4,
 "nbformat_minor": 4
}
