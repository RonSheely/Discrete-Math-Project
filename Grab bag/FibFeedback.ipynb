{
 "cells": [
  {
   "cell_type": "code",
   "execution_count": 46,
   "metadata": {},
   "outputs": [
    {
     "name": "stdout",
     "output_type": "stream",
     "text": [
      "[1, 1, 2, 3, 5, 8, 13, 21, 34, 55]\n",
      "[1, 1]\n",
      "[1, 1]\n",
      "[1, 1, 2]\n",
      "[1]\n",
      "None\n",
      "[1, 1, 2]\n",
      "[1, 1, 2]\n"
     ]
    }
   ],
   "source": [
    "def fibseq(nmax):\n",
    "    F0, F1, F2 = 0, 1, 1\n",
    "    F = [0, F1, F2]\n",
    "    for i in range(3,nmax+1):\n",
    "        Fnext = F[i-1] + F[i-2]\n",
    "        F.append(Fnext)\n",
    "    F.pop(0)\n",
    "    return(F)\n",
    "\n",
    "# do not need F0 or first 0\n",
    "# start at 2 to nmax instead\n",
    "# need to handle case of nmax=1\n",
    "def fibseq2(nmax):\n",
    "    F1, F2 = 1, 1\n",
    "    F = [F1, F2]\n",
    "    \n",
    "    if nmax==1:\n",
    "        F.pop(0)\n",
    "        return F\n",
    "    \n",
    "    for i in range(2,nmax):\n",
    "        Fnext = F[i-1] + F[i-2]\n",
    "        F.append(Fnext)\n",
    "        \n",
    "    return(F)\n",
    "\n",
    "myfib = fibseq(10)\n",
    "print(myfib)\n",
    "\n",
    "\n",
    "print(fibseq(1))\n",
    "print(fibseq(2))\n",
    "print(fibseq(3))\n",
    "\n",
    "print(fibseq2(1))\n",
    "print(fibseq2(2))\n",
    "print(fibseq2(3))\n",
    "print(fibseq2(10))\n",
    "\n",
    "\n",
    "\n",
    "\n"
   ]
  },
  {
   "cell_type": "code",
   "execution_count": null,
   "metadata": {},
   "outputs": [],
   "source": []
  }
 ],
 "metadata": {
  "kernelspec": {
   "display_name": "Python 3",
   "language": "python",
   "name": "python3"
  },
  "language_info": {
   "codemirror_mode": {
    "name": "ipython",
    "version": 3
   },
   "file_extension": ".py",
   "mimetype": "text/x-python",
   "name": "python",
   "nbconvert_exporter": "python",
   "pygments_lexer": "ipython3",
   "version": "3.7.6"
  }
 },
 "nbformat": 4,
 "nbformat_minor": 4
}
