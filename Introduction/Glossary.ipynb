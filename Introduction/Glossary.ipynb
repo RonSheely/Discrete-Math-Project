# Glossary

We'll use this notebook to maintain a running list of terms that may be unfamiliar to folks who are new to programming.
Don't worry too much about formatting, but do try to keep things in roughly alphabetical order. Let's maintain as
an unordered list for now. For example

+ Item 1: Definition
+ Item 2: Definition
