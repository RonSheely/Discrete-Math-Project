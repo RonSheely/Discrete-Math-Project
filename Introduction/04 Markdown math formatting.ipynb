{
 "cells": [
  {
   "cell_type": "markdown",
   "metadata": {},
   "source": [
    "# Math formatting"
   ]
  },
  {
   "cell_type": "markdown",
   "metadata": {},
   "source": [
    "Jupyter Notebooks have the capability to do extensive math formatting using the LaTeX typesetting system. \n",
    "\n",
    "+ Mathematical expressions are delimited with dollar signs\n",
    "+ Superscripts and subscripts are created using carets (^) and underscores\n",
    "+ Groups are defined with curly braces\n",
    "+ Special symbols and formatting features follow the pattern \"backslash keyword arguments\"\n",
    "\n",
    "We illustrate some of the commonly used features below, starting with those that are most likely to be used in a high school math class first."
   ]
  },
  {
   "cell_type": "markdown",
   "metadata": {},
   "source": [
    "## Subscripts, superscripts, fractions and square roots"
   ]
  },
  {
   "cell_type": "markdown",
   "metadata": {},
   "source": [
    "| LaTeX               | rendered          |\n",
    "|:-------------------:|:-----------------:|\n",
    "| \\$x^2\\$             | $x^2$             |\n",
    "| \\$x^{2.5}\\$         | $x^{2.5}$         |\n",
    "| \\$y_1\\$             | $y_1$             |\n",
    "| \\$y_{ij}\\$          | $y_{ij}$          |\n",
    "| \\$z^a_b\\$           | $z^a_b$           |\n",
    "| \\$\\frac{a}{b}\\$     | $\\frac{a}{b}$     |\n",
    "| \\$\\frac{x^2}{y^2}\\$ | $\\frac{x^2}{y^2}$ |\n",
    "| \\$\\sqrt{x}\\$        | $\\sqrt{x}$        |"
   ]
  },
  {
   "cell_type": "markdown",
   "metadata": {},
   "source": [
    "## Common math symbols"
   ]
  },
  {
   "cell_type": "markdown",
   "metadata": {},
   "source": [
    "A comprehensive list of math symbols can be found here https://oeis.org/wiki/List_of_LaTeX_mathematical_symbols"
   ]
  },
  {
   "cell_type": "markdown",
   "metadata": {},
   "source": [
    "| LaTeX               | rendered          |\n",
    "|:-------------------:|:-----------------:|\n",
    "| \\$\\pm\\$             | $\\pm$             |\n",
    "| \\$\\leq\\$            | $\\leq$            |\n",
    "| \\$\\geq\\$            | $\\geq$            |\n",
    "| \\$\\leftarrow\\$      | $\\leftarrow$      |\n",
    "| \\$\\rightarrow\\$     | $\\rightarrow$     |"
   ]
  },
  {
   "cell_type": "markdown",
   "metadata": {},
   "source": [
    "## Integrals, sums and products"
   ]
  },
  {
   "cell_type": "markdown",
   "metadata": {},
   "source": [
    "| LaTeX                              | rendered                         |\n",
    "|:----------------------------------:|:--------------------------------:|\n",
    "| \\$\\int_a^b f(x)\\$                  | $\\int_a^b f(x)$                  |\n",
    "| \\$\\sum_{i=1}^{n} \\frac{x_i}{y_i}\\$ | $\\sum_{i=1}^{n} \\frac{x_i}{y_i}$ |\n",
    "| \\$\\prod_{i=1}^n n^2\\$              | $\\prod_{i=1}^n n^2$              |"
   ]
  },
  {
   "cell_type": "markdown",
   "metadata": {},
   "source": [
    "## Greek letters"
   ]
  },
  {
   "cell_type": "markdown",
   "metadata": {},
   "source": [
    "All lower case Greek letters are available - preface lower case name with backslash\n",
    "\n",
    "```\n",
    "$\\alpha \\beta \\gamma \\delta \\epsilon \\zeta \\eta \\theta$  \n",
    "$\\iota \\kappa \\lambda \\mu \\nu \\xi \\omicron \\pi$  \n",
    "$\\rho \\sigma \\tau \\upsilon \\phi \\chi \\psi \\omega$\n",
    "```\n",
    "\n",
    "$\\alpha \\beta \\gamma \\delta \\epsilon \\zeta \\eta \\theta$  \n",
    "$\\iota \\kappa \\lambda \\mu \\nu \\xi \\omicron \\pi$  \n",
    "$\\rho \\sigma \\tau \\upsilon \\phi \\chi \\psi \\omega$\n",
    "\n",
    "Only upper case letters that do not have Latin equivalents are provided - preface upper case name with backslash\n",
    "\n",
    "```\n",
    "$\\Gamma \\Delta \\Theta$  \n",
    "$\\Lambda \\Xi \\Pi$  \n",
    "$\\Sigma \\Upsilon \\Phi \\Psi \\Omega$\n",
    "```\n",
    "\n",
    "$\\Gamma \\Delta \\Theta$  \n",
    "$\\Lambda \\Xi \\Pi$  \n",
    "$\\Sigma \\Upsilon \\Phi \\Psi \\Omega$"
   ]
  },
  {
   "cell_type": "markdown",
   "metadata": {},
   "source": [
    "## Matrices and brackets"
   ]
  },
  {
   "cell_type": "markdown",
   "metadata": {},
   "source": [
    "```\n",
    "$\\begin{matrix}\n",
    "a & b \\\\ \n",
    "c & d\n",
    "\\end{matrix}$\n",
    "```\n",
    "$\\begin{matrix}\n",
    "a & b \\\\ \n",
    "c & d\n",
    "\\end{matrix}$\n",
    "\n",
    "------------\n",
    "\n",
    "```\n",
    "$\\left[\n",
    "\\begin{matrix}\n",
    "a & b \\\\ \n",
    "c & d\n",
    "\\end{matrix}\n",
    "\\right]$\n",
    "```\n",
    "$\\left[\n",
    "\\begin{matrix}\n",
    "a & b \\\\ \n",
    "c & d\n",
    "\\end{matrix}\n",
    "\\right]$\n",
    "\n",
    "------------\n",
    "\n",
    "```\n",
    "$\\left(\n",
    "\\begin{matrix}\n",
    "a & b \\\\ \n",
    "c & d\n",
    "\\end{matrix}\n",
    "\\right)$\n",
    "```\n",
    "\n",
    "$\\left(\n",
    "\\begin{matrix}\n",
    "a & b \\\\ \n",
    "c & d\n",
    "\\end{matrix}\n",
    "\\right)$"
   ]
  }
 ],
 "metadata": {
  "kernelspec": {
   "display_name": "Python 3",
   "language": "python",
   "name": "python3"
  },
  "language_info": {
   "codemirror_mode": {
    "name": "ipython",
    "version": 3
   },
   "file_extension": ".py",
   "mimetype": "text/x-python",
   "name": "python",
   "nbconvert_exporter": "python",
   "pygments_lexer": "ipython3",
   "version": "3.6.4"
  }
 },
 "nbformat": 4,
 "nbformat_minor": 2
}
