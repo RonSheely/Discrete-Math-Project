{
 "cells": [
  {
   "cell_type": "markdown",
   "metadata": {},
   "source": [
    "# Glossary"
   ]
  },
  {
   "cell_type": "markdown",
   "metadata": {},
   "source": [
    "This file provides brief definitions of programming and math terms that may be unfamiliar"
   ]
  },
  {
   "cell_type": "markdown",
   "metadata": {},
   "source": [
    "## Programming"
   ]
  },
  {
   "cell_type": "markdown",
   "metadata": {},
   "source": [
    "+ <p>Syntax<a id='Syntax'></a>: A set of programming rules that the language has to follow. This includes any structure rules or keywords that are necessary for the computer to interpret the code. Examples in python include if():, not, **, for():, tab, etc. <p>\n",
    "\n",
    "+ <p>Delimiter<a id='Delimit'></a>: A marker used to denote the boundry between different areas. For python, whitespaces serve as delimiters. \n",
    "    \n",
    "    ```python\n",
    "    if(something):\n",
    "        some_command\n",
    "        some_command2\n",
    "    ```\n",
    "    \n",
    "    In the above case, if something is false, neither command will be executed\n",
    "    \n",
    "    ```python\n",
    "    if(something):\n",
    "        some_command\n",
    "    some_command2\n",
    "    ```\n",
    "    \n",
    "    In this case, some_command2 will always be executed, even if something is false<p>\n",
    "\n",
    "+ <p>Whitespace<a id='Whitespace'></a>: In python, the space between different blocks of the code marks them as separate.\n",
    "    \n",
    "    ```python\n",
    "    if(somethingandother_thing):\n",
    "    ```\n",
    "    \n",
    "    Will check one variable named 'somethingandother_thing' for true or false\n",
    "    \n",
    "    ```python\n",
    "    if(something and other_thing):\n",
    "    ```\n",
    "    \n",
    "    While the above will check two variables 'something' and 'other_thing' and execute if they are both true<p>\n",
    "\n",
    "+ <p>Arguments<a id='Arguments'></a>: An argument is a input for any procedure in programming. The argument represents the real value or object given to the procedure to operate on. \n",
    "    \n",
    "    ```python\n",
    "    true_or_false = false\n",
    "    saved_value = 1\n",
    "    if(true_or_false):\n",
    "        multiply_by_10(saved_value)\n",
    "    ```\n",
    "    \n",
    "    The definition of argument is often interchangable with the definition of parameter, so the arguments in this example are true_or_false or false for the if(): statement and saved_value or 1 for multiply_by_10() <p>\n",
    "        \n",
    "+ <p>Variable Types<a id='Variable_Types'></a>: A variable can have many different types which dictates how different functions will respond to it.\n",
    "    \n",
    "    * int: integers. e.g 1, -10, 212\n",
    "    * float: numbers including decimals. e.g 1.0, -2.1, 341.212\n",
    "    * boolean<a id='Booleans'></a>: True or False.\n",
    "    * string<a id='String'></a>: A collection of any number of characters. e.g \"a\", \"212\", \"Hello world!\"\n",
    "    * list<a id='Lists'></a>: A collection of any number of objects, strings, numbers. Denoted by []. e.g [1.0, \"Jones\", True, 212, 212]\n",
    "    * set<a id='Sets'></a>: A collection similar to a list, however elements cannot be repeated and it is not ordered. Denoted by {}. e.g [1.0, \"Jones\", True, 212]\n",
    "    * tuple: A collection similar to list, however it's contents and size cannot be changed. Denoted by (). e.g (1, \"Toby\", 2.34)<p>\n",
    "<p>\n",
    "        \n",
    "+ <p>Elements<a id='Elements'></a>: Anything contained within a list or a tuple. e.g 1, \"Jones\", True, 212 are the elements of [1, \"Jones\", True, 212] <p>"
   ]
  },
  {
   "cell_type": "markdown",
   "metadata": {},
   "source": [
    "\n",
    "## Math"
   ]
  },
  {
   "cell_type": "markdown",
   "metadata": {},
   "source": [
    "+ Sample item 1: definition\n",
    "\n",
    "+ Sample item 2: definition"
   ]
  }
 ],
 "metadata": {
  "kernelspec": {
   "display_name": "Python 3",
   "language": "python",
   "name": "python3"
  },
  "language_info": {
   "codemirror_mode": {
    "name": "ipython",
    "version": 3
   },
   "file_extension": ".py",
   "mimetype": "text/x-python",
   "name": "python",
   "nbconvert_exporter": "python",
   "pygments_lexer": "ipython3",
   "version": "3.7.6"
  }
 },
 "nbformat": 4,
 "nbformat_minor": 2
}
