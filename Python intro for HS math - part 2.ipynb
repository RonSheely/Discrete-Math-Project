{
 "cells": [
  {
   "cell_type": "markdown",
   "metadata": {},
   "source": [
    "# Python intro for HS math - part 2"
   ]
  },
  {
   "cell_type": "markdown",
   "metadata": {},
   "source": [
    "In the previous Notebook, we learned about the basics needed to get started with Python - math operators, variables, Booleans values and logic, strings, lists and sets - plus a brief digression into working with Notebooks, adding comments to your code and a very quick preview of NumPy. We pick up where we left off and cover constructs that control the flow of the code, functions and a more in depth look at modules.\n",
    "\n",
    "+ Decision making (branching)\n",
    "+ Loops\n",
    "+ Functions\n",
    "+ Modules"
   ]
  },
  {
   "cell_type": "markdown",
   "metadata": {},
   "source": [
    "## Decision making"
   ]
  },
  {
   "cell_type": "markdown",
   "metadata": {},
   "source": [
    "Being able to make decisions, or branching, is one of the key features of any programming language. in Python, this is done using the `if` construct.\n",
    "\n",
    "```python\n",
    "if condition:\n",
    "    statement\n",
    "    ...\n",
    "```\n",
    "\n",
    "+ The indentation is required and defines the boundaries of code blocks. The use of indentation in this way is sometimes called the \"off-side rule\", borrowed from the name of a penalty in American football. Enter a tab to get indentation (which will be rendered as four spaces).\n",
    "+ The colon after the condition is mandatory\n",
    "+ The conditional can be enclosed within parentheses (e.g. `(x < y)`), but they are normally omitted (e.g. `x < y`). Both are correct, although the latter is more consistent with typical Python coding style.\n"
   ]
  },
  {
   "cell_type": "code",
   "execution_count": 25,
   "metadata": {},
   "outputs": [
    {
     "name": "stdout",
     "output_type": "stream",
     "text": [
      "x is less than y\n",
      "z equals x plus y\n"
     ]
    }
   ],
   "source": [
    "x = 1\n",
    "y = 2\n",
    "z = 3\n",
    "\n",
    "if x < y:\n",
    "    print(\"x is less than y\")\n",
    "    \n",
    "if z == x + y:\n",
    "    print(\"z equals x plus y\")\n",
    "    "
   ]
  },
  {
   "cell_type": "markdown",
   "metadata": {},
   "source": [
    "### if-else"
   ]
  },
  {
   "cell_type": "markdown",
   "metadata": {},
   "source": [
    "The `if` construct can be extended to include an `else` clause\n",
    "\n",
    "```python\n",
    "if condition:\n",
    "    statement\n",
    "    ...\n",
    "else:\n",
    "    statement\n",
    "    ...\n",
    "```"
   ]
  },
  {
   "cell_type": "code",
   "execution_count": 18,
   "metadata": {},
   "outputs": [
    {
     "name": "stdout",
     "output_type": "stream",
     "text": [
      "x is not greater than y\n",
      "z is not equal to 2x + y\n"
     ]
    }
   ],
   "source": [
    "if x > y:\n",
    "    print(\"x is greater than y\")\n",
    "else:\n",
    "    print(\"x is not greater than y\")\n",
    "    \n",
    "if z == 2*x + y:\n",
    "    print(\"z equals x plus y\")\n",
    "else:\n",
    "    print(\"z is not equal to 2x + y\")"
   ]
  },
  {
   "cell_type": "markdown",
   "metadata": {},
   "source": [
    "### if-elif-else"
   ]
  },
  {
   "cell_type": "markdown",
   "metadata": {},
   "source": [
    "The full `if-elif-else` construct further generalizes to include multiple conditions\n",
    "\n",
    "```python\n",
    "if condition1:\n",
    "    statement\n",
    "    ...\n",
    "elif condition2:\n",
    "    statement\n",
    "    ...\n",
    "else:\n",
    "    statement\n",
    "    ...\n",
    "```\n"
   ]
  },
  {
   "cell_type": "code",
   "execution_count": 19,
   "metadata": {},
   "outputs": [
    {
     "name": "stdout",
     "output_type": "stream",
     "text": [
      "a is less than b\n",
      "a is greater than b\n",
      "a is equal to b\n"
     ]
    }
   ],
   "source": [
    "a, b = 1, 2\n",
    "if a < b:\n",
    "    print (\"a is less than b\")\n",
    "elif a > b:\n",
    "    print (\"a is greater than b\")\n",
    "else:\n",
    "    print (\"a is equal to b\")\n",
    "    \n",
    "a, b = 2, 1\n",
    "if a < b:\n",
    "    print (\"a is less than b\")\n",
    "elif a > b:\n",
    "    print (\"a is greater than b\")\n",
    "else:\n",
    "    print (\"a is equal to b\")\n",
    "    \n",
    "a, b = 2, 2\n",
    "if a < b:\n",
    "    print (\"a is less than b\")\n",
    "elif a > b:\n",
    "    print (\"a is greater than b\")\n",
    "else:\n",
    "    print (\"a is equal to b\")\n",
    "\n"
   ]
  },
  {
   "cell_type": "markdown",
   "metadata": {},
   "source": [
    "You might have noticed that I slipped in one more Python feaure to simultaneously assign values to two variables. You don't need to do this, but again this is considered standard Python coding style.\n",
    "\n",
    "```python\n",
    "a, b = 1, 2\n",
    "```"
   ]
  },
  {
   "cell_type": "markdown",
   "metadata": {},
   "source": [
    "### Nested conditionals"
   ]
  },
  {
   "cell_type": "markdown",
   "metadata": {},
   "source": [
    "Conditionals can be nested to an arbitrary level of depth. Just remember that the level of indentation determines how code is associated with the conditional tests."
   ]
  },
  {
   "cell_type": "code",
   "execution_count": 24,
   "metadata": {},
   "outputs": [
    {
     "name": "stdout",
     "output_type": "stream",
     "text": [
      "aBcdeFGhIj is mixed case letters\n"
     ]
    }
   ],
   "source": [
    "mystr = 'aBcdeFGhIj'\n",
    "\n",
    "if mystr.isalpha():\n",
    "    if mystr.isupper():\n",
    "        print(mystr, 'is all upper case letters')\n",
    "    elif mystr.islower():\n",
    "        print(mystr, 'is all lower case letters')\n",
    "    else:\n",
    "        print(mystr, 'is mixed case letters')\n",
    "else:\n",
    "    print(mystr, 'contains characters other than letters')"
   ]
  },
  {
   "cell_type": "markdown",
   "metadata": {},
   "source": [
    "### Exercise"
   ]
  },
  {
   "cell_type": "markdown",
   "metadata": {},
   "source": [
    "Write a few if, if-else or if-elif-else constructs to convince yourself that you understand how branching works. Try writing an example with nested conditionals. Break the syntax by omitting the colon, not indenting the code or mispelling the keywords."
   ]
  },
  {
   "cell_type": "code",
   "execution_count": null,
   "metadata": {},
   "outputs": [],
   "source": []
  },
  {
   "cell_type": "code",
   "execution_count": null,
   "metadata": {},
   "outputs": [],
   "source": []
  },
  {
   "cell_type": "markdown",
   "metadata": {},
   "source": [
    "## Loops"
   ]
  },
  {
   "cell_type": "markdown",
   "metadata": {},
   "source": [
    "The ability to iterate over a block of code is probably the most powerful feature of modern programming languages. Python makes it particularly easy to loop over the elements of lists, sets and other structures (collectively known as iterables), performing the same operation on each.\n",
    "\n",
    "```python\n",
    "for x in iterator:\n",
    "    statement\n",
    "    ...\n",
    "```"
   ]
  },
  {
   "cell_type": "code",
   "execution_count": 34,
   "metadata": {},
   "outputs": [
    {
     "name": "stdout",
     "output_type": "stream",
     "text": [
      "Adam : length = 4\n",
      "Billie : length = 6\n",
      "Carlos : length = 6\n",
      "Diane : length = 5\n",
      "\n",
      "apple : length = 5\n",
      "cherry : length = 6\n",
      "banana : length = 6\n",
      "date : length = 4\n",
      "\n",
      "a\n",
      "b\n",
      "c\n",
      "d\n"
     ]
    }
   ],
   "source": [
    "# Iterating over the members of a list\n",
    "names = ['Adam', 'Billie', 'Carlos', 'Diane']\n",
    "for n in names:\n",
    "    print(n, ': length =', len(n))\n",
    "    \n",
    "print()\n",
    "    \n",
    "# Iterating over the members of a set\n",
    "fruits = {'apple', 'banana', 'cherry', 'date'}\n",
    "for f in fruits:\n",
    "    print(f, ': length =', len(f))\n",
    "    \n",
    "print()\n",
    "    \n",
    "# Iterating over the characters in a string\n",
    "newstr = 'abcd'\n",
    "for c in newstr:\n",
    "    print(c)"
   ]
  },
  {
   "cell_type": "markdown",
   "metadata": {},
   "source": [
    "We can use the `zip` command to iterate over the corresponding elements of multiple lists. Note that `zip` will return a tuple (Python collection like a list, but immutable) equal in length to the number of lists."
   ]
  },
  {
   "cell_type": "code",
   "execution_count": 78,
   "metadata": {},
   "outputs": [
    {
     "name": "stdout",
     "output_type": "stream",
     "text": [
      "a A 1\n",
      "b B 2\n",
      "c C 3\n",
      "d D 4\n"
     ]
    }
   ],
   "source": [
    "lowers = ['a', 'b', 'c', 'd']\n",
    "uppers = ['A', 'B', 'C', 'D']\n",
    "numbers = [1, 2, 3, 4]\n",
    "for t in zip(lowers, uppers, numbers):\n",
    "    print(t[0], t[1], t[2])"
   ]
  },
  {
   "cell_type": "markdown",
   "metadata": {},
   "source": [
    "Sometimes you'll want to access the position of the item in the iterable. This can be done using the enumerate function"
   ]
  },
  {
   "cell_type": "code",
   "execution_count": 52,
   "metadata": {},
   "outputs": [
    {
     "name": "stdout",
     "output_type": "stream",
     "text": [
      "0 Adam\n",
      "1 Billie\n",
      "2 Carlos\n",
      "3 Diane\n"
     ]
    }
   ],
   "source": [
    "for i, n in enumerate(names):\n",
    "    print(i, n)"
   ]
  },
  {
   "cell_type": "markdown",
   "metadata": {},
   "source": [
    "Python makes it very easy to avoid explicitly looping over an index. If you do need to do this, use the `range()` function."
   ]
  },
  {
   "cell_type": "code",
   "execution_count": 62,
   "metadata": {},
   "outputs": [
    {
     "name": "stdout",
     "output_type": "stream",
     "text": [
      "0\n",
      "1\n",
      "2\n",
      "\n",
      "2\n",
      "3\n",
      "4\n",
      "\n",
      "2\n",
      "4\n",
      "6\n"
     ]
    }
   ],
   "source": [
    "# With a single argument, range(n) returns 0 to n-1\n",
    "for i in range(3):\n",
    "    print(i)\n",
    "    \n",
    "print()\n",
    "\n",
    "# With two arguments, range(m,n) returns m to n-1\n",
    "for i in range(2,5):\n",
    "    print(i)\n",
    "    \n",
    "print()\n",
    "    \n",
    "# With three arguments, range(m,n,s) returns m to n-1 with stride s\n",
    "for i in range(2,8,2):\n",
    "    print(i)"
   ]
  },
  {
   "cell_type": "markdown",
   "metadata": {},
   "source": [
    "You might be tempted to do the following, but it's awkward and ugly"
   ]
  },
  {
   "cell_type": "code",
   "execution_count": 63,
   "metadata": {},
   "outputs": [
    {
     "name": "stdout",
     "output_type": "stream",
     "text": [
      "Adam : length = 4\n",
      "Billie : length = 6\n",
      "Carlos : length = 6\n",
      "Diane : length = 5\n"
     ]
    }
   ],
   "source": [
    "# Avoid doing this - it's not wrong, but it is ugly and harder to read\n",
    "for i in range(len(names)):\n",
    "    print(names[i], ': length =', len(names[i]))"
   ]
  },
  {
   "cell_type": "markdown",
   "metadata": {},
   "source": [
    "### Control flow within loops"
   ]
  },
  {
   "cell_type": "markdown",
   "metadata": {},
   "source": [
    "You may need to exit a loop early once a certain condition is met. Other times you'll want to jump to the next iteration. Python provides two keywords for accomplishing this - `break` and `continue`."
   ]
  },
  {
   "cell_type": "code",
   "execution_count": 71,
   "metadata": {},
   "outputs": [],
   "source": [
    "numbers = [2, 7, 6, 15, 3, 6]"
   ]
  },
  {
   "cell_type": "code",
   "execution_count": 72,
   "metadata": {
    "scrolled": false
   },
   "outputs": [
    {
     "name": "stdout",
     "output_type": "stream",
     "text": [
      "2\n",
      "7\n",
      "6\n"
     ]
    }
   ],
   "source": [
    "# Break out of the loop once we encounter a number divisible by 5\n",
    "\n",
    "for n in numbers:\n",
    "    if n%5 == 0:\n",
    "        break\n",
    "    print(n)"
   ]
  },
  {
   "cell_type": "code",
   "execution_count": 73,
   "metadata": {},
   "outputs": [
    {
     "name": "stdout",
     "output_type": "stream",
     "text": [
      "7\n",
      "15\n",
      "3\n"
     ]
    }
   ],
   "source": [
    "# Jump to the next iteration if we encounter an even number\n",
    "# Note - this is a contrived example and we could have used\n",
    "# an if constrct. Continue is much more useful when working\n",
    "# with more complex loops\n",
    "\n",
    "for n in numbers:\n",
    "    if n%2 == 0:\n",
    "        continue\n",
    "    print(n)"
   ]
  },
  {
   "cell_type": "markdown",
   "metadata": {},
   "source": [
    "### List comprehension"
   ]
  },
  {
   "cell_type": "markdown",
   "metadata": {},
   "source": [
    "Python's list comprehension functionality makes it very easy to create and populate a new list. We'll show an example first using the loop syntax and then demonstrate how much easier it is to do with list comprehension.\n",
    "\n",
    "This is a slightly more advanced topic, but it's good to cover it here since list comprehension is so commonly used."
   ]
  },
  {
   "cell_type": "code",
   "execution_count": 74,
   "metadata": {},
   "outputs": [
    {
     "data": {
      "text/plain": [
       "[0, 1, 4, 9, 16, 25, 36, 49, 64, 81]"
      ]
     },
     "execution_count": 74,
     "metadata": {},
     "output_type": "execute_result"
    }
   ],
   "source": [
    "# Populate a list of squares using a loop\n",
    "squares = []\n",
    "for x in range(10):\n",
    "    squares.append(x*x)    \n",
    "squares"
   ]
  },
  {
   "cell_type": "code",
   "execution_count": 76,
   "metadata": {},
   "outputs": [
    {
     "data": {
      "text/plain": [
       "[0, 1, 4, 9, 16, 25, 36, 49, 64, 81]"
      ]
     },
     "execution_count": 76,
     "metadata": {},
     "output_type": "execute_result"
    }
   ],
   "source": [
    "# Populate a list of squares using list comprehension (very Pythonic)\n",
    "squares = [x*x for x in range(10)]\n",
    "squares"
   ]
  },
  {
   "cell_type": "markdown",
   "metadata": {},
   "source": [
    "The general form of list comprehension is **\\[transformation iterator filter\\]**. In the example below, we use a more complex function and limit the list to results that are divisible by 3"
   ]
  },
  {
   "cell_type": "code",
   "execution_count": null,
   "metadata": {},
   "outputs": [],
   "source": [
    "squares = [x*x + x - 2 for x in range(10) if (x*x + x - 2)%3 == 0]\n",
    "squares"
   ]
  },
  {
   "cell_type": "markdown",
   "metadata": {},
   "source": [
    "### Exercise"
   ]
  },
  {
   "cell_type": "markdown",
   "metadata": {},
   "source": [
    "Write a simple loop that iterates over the elements of a list of integers and prints out for each whether it is even or odd (hint - use the modulo operator `%` to determine remainder after division by 2).\n",
    "\n",
    "Create two short lists of strings and, using a pair of nested loops, print out all possible concatenations of elements of the first and second lists (e.g. given \\['a', 'b'\\] and \\['c', 'd'\\], output ac, ad, bc and bd).\n",
    "\n",
    "Revisit the example that used the `zip()` function and observe what happens if the lists are not of same size."
   ]
  },
  {
   "cell_type": "code",
   "execution_count": null,
   "metadata": {},
   "outputs": [],
   "source": []
  },
  {
   "cell_type": "code",
   "execution_count": null,
   "metadata": {},
   "outputs": [],
   "source": []
  },
  {
   "cell_type": "code",
   "execution_count": null,
   "metadata": {},
   "outputs": [],
   "source": []
  },
  {
   "cell_type": "markdown",
   "metadata": {},
   "source": [
    "## Function definitions"
   ]
  },
  {
   "cell_type": "markdown",
   "metadata": {},
   "source": [
    "Python functions are defined using the `def` keyword.\n",
    "\n",
    "```python\n",
    "def function_name(arg1, arg2, ...):\n",
    "    function body\n",
    "```\n",
    "\n",
    "From the Python reference manual: \"The function definition does not execute the function body; this gets executed only when the function is called\". One of the implications of this is that methods from modules that have not yet been loaded can be used at the time the function is declared (more on that soon)."
   ]
  },
  {
   "cell_type": "code",
   "execution_count": 79,
   "metadata": {},
   "outputs": [],
   "source": [
    "def square(x):\n",
    "    return x*x"
   ]
  },
  {
   "cell_type": "code",
   "execution_count": 80,
   "metadata": {},
   "outputs": [
    {
     "data": {
      "text/plain": [
       "9.0"
      ]
     },
     "execution_count": 80,
     "metadata": {},
     "output_type": "execute_result"
    }
   ],
   "source": [
    "square(3.0)"
   ]
  },
  {
   "cell_type": "markdown",
   "metadata": {},
   "source": [
    "Functions can take any number of arguments and optional arguments can be given default values."
   ]
  },
  {
   "cell_type": "code",
   "execution_count": 81,
   "metadata": {},
   "outputs": [],
   "source": [
    "def func1(x, y, z=1.0):\n",
    "    return x*y + z"
   ]
  },
  {
   "cell_type": "code",
   "execution_count": 82,
   "metadata": {},
   "outputs": [
    {
     "data": {
      "text/plain": [
       "7.0"
      ]
     },
     "execution_count": 82,
     "metadata": {},
     "output_type": "execute_result"
    }
   ],
   "source": [
    "func1(2,3)"
   ]
  },
  {
   "cell_type": "code",
   "execution_count": 83,
   "metadata": {},
   "outputs": [
    {
     "data": {
      "text/plain": [
       "10"
      ]
     },
     "execution_count": 83,
     "metadata": {},
     "output_type": "execute_result"
    }
   ],
   "source": [
    "func1(2,3,4)"
   ]
  },
  {
   "cell_type": "markdown",
   "metadata": {},
   "source": [
    "Functions can return multiple objects packed into a tuple. The example below returns a tuple containing a scalar (integer or float depending on argument types) and a three element list"
   ]
  },
  {
   "cell_type": "code",
   "execution_count": 84,
   "metadata": {},
   "outputs": [],
   "source": [
    "def func2(x, y, z=1.0):\n",
    "    return x*y + z, [x*y, x*z, y*z]"
   ]
  },
  {
   "cell_type": "code",
   "execution_count": 85,
   "metadata": {},
   "outputs": [
    {
     "data": {
      "text/plain": [
       "(10, [6, 8, 12])"
      ]
     },
     "execution_count": 85,
     "metadata": {},
     "output_type": "execute_result"
    }
   ],
   "source": [
    "func2(2, 3, 4)"
   ]
  },
  {
   "cell_type": "markdown",
   "metadata": {},
   "source": [
    "We haven't gotten to modules yet, but we mentioned earlier that we can create a function definition that uses methods from modules that have not yet been loaded."
   ]
  },
  {
   "cell_type": "code",
   "execution_count": 86,
   "metadata": {},
   "outputs": [],
   "source": [
    "def uses_numpy(x):\n",
    "    return np.sin(x) + np.cos(x) * np.sqrt(x)"
   ]
  },
  {
   "cell_type": "markdown",
   "metadata": {},
   "source": [
    "### Exercise"
   ]
  },
  {
   "cell_type": "markdown",
   "metadata": {},
   "source": [
    "Return to our earlier example on nested conditionals and turn it into a function that accepts a string and returns a message describing if the string is all uppercase, all lowercase, mixed case or contains characters other than letters.\n",
    "\n",
    "Example usage\n",
    "\n",
    "```python\n",
    "x = 'abcd'\n",
    "s = string_function(x)\n",
    "print(s)\n",
    "```"
   ]
  },
  {
   "cell_type": "code",
   "execution_count": null,
   "metadata": {},
   "outputs": [],
   "source": []
  },
  {
   "cell_type": "code",
   "execution_count": null,
   "metadata": {},
   "outputs": [],
   "source": []
  },
  {
   "cell_type": "markdown",
   "metadata": {},
   "source": [
    "## Modules"
   ]
  },
  {
   "cell_type": "markdown",
   "metadata": {},
   "source": [
    "Python modules provide a mechanism for packaging function definitions and statements. You can develop your own modules or import standard modules such as numpy (numerical computing), pandas (machine learning) and matplotlib (plotting)."
   ]
  },
  {
   "cell_type": "markdown",
   "metadata": {},
   "source": [
    "The contents of a module are imported using the import statement"
   ]
  },
  {
   "cell_type": "code",
   "execution_count": null,
   "metadata": {},
   "outputs": [],
   "source": [
    "import numpy\n",
    "numpy.sqrt(10.5)"
   ]
  },
  {
   "cell_type": "markdown",
   "metadata": {},
   "source": [
    "Module names can be long and it's often convenient to abbreviate the name using the \"as\" clause. Although you can use any abbreviation you like, so long as it doesn't conflict with an existing name, many of the modules have standard abbreviations and we recommend using them."
   ]
  },
  {
   "cell_type": "code",
   "execution_count": 89,
   "metadata": {},
   "outputs": [
    {
     "data": {
      "text/plain": [
       "3.24037034920393"
      ]
     },
     "execution_count": 89,
     "metadata": {},
     "output_type": "execute_result"
    }
   ],
   "source": [
    "import numpy as np\n",
    "np.sqrt(10.5)"
   ]
  },
  {
   "cell_type": "markdown",
   "metadata": {},
   "source": [
    "Earlier, we had defined a function, uses_numpy, that required numpy's sin, cos and sqrt functions. Now that we've imported numpy, we can execute the function."
   ]
  },
  {
   "cell_type": "code",
   "execution_count": null,
   "metadata": {},
   "outputs": [],
   "source": [
    "uses_numpy(1.2)"
   ]
  },
  {
   "cell_type": "markdown",
   "metadata": {},
   "source": [
    "You can import specific methods from modules using the following syntax. Note that the sqrt function no longer needs to be prefixed by \"numpy\" or \"np\"."
   ]
  },
  {
   "cell_type": "code",
   "execution_count": null,
   "metadata": {},
   "outputs": [],
   "source": [
    "from numpy import sqrt\n",
    "sqrt(10.5)"
   ]
  },
  {
   "cell_type": "markdown",
   "metadata": {},
   "source": [
    "It's possible to import all names from a module using \"\\*\". For example,    \n",
    "\n",
    "    from numpy import *  \n",
    "\n",
    "This is not generally recommended. Since you don't generally know the full content of the module, you may introduce conflicts with existing function or variable names."
   ]
  },
  {
   "cell_type": "markdown",
   "metadata": {},
   "source": [
    "### Get version of a module and version of Python"
   ]
  },
  {
   "cell_type": "markdown",
   "metadata": {},
   "source": [
    "Software dependencies often require that we have use a particular version of Python or a module. \n",
    "\n",
    "+ To get the Python version, use sys.version\n",
    "+ To get a version of a module, use modulename.\\_\\_version.\\_\\_\n",
    "\n",
    "The notatrion with the double underscores is known as a *dunder*. "
   ]
  },
  {
   "cell_type": "code",
   "execution_count": null,
   "metadata": {},
   "outputs": [],
   "source": [
    "import sys\n",
    "sys.version"
   ]
  },
  {
   "cell_type": "code",
   "execution_count": 95,
   "metadata": {},
   "outputs": [
    {
     "data": {
      "text/plain": [
       "'1.14.0'"
      ]
     },
     "execution_count": 95,
     "metadata": {},
     "output_type": "execute_result"
    }
   ],
   "source": [
    "np.__version__"
   ]
  },
  {
   "cell_type": "code",
   "execution_count": 96,
   "metadata": {},
   "outputs": [],
   "source": [
    "np?"
   ]
  },
  {
   "cell_type": "markdown",
   "metadata": {
    "collapsed": true
   },
   "source": [
    "## Getting help"
   ]
  },
  {
   "cell_type": "markdown",
   "metadata": {},
   "source": [
    "Python is very expansive language. There are a lot of built-in functions, many of which can be called with variable numbers of arguments. Add in the commonly used modules, such as NumPy, there's way more information than most of us can remember.\n",
    "\n",
    "Fortunately, Python provides excellent help capabilities. Just follow the function/method name with a question mark or pass to the help() function. The former displays the help information in a new sub-window while the latter displays as the output of the cell."
   ]
  },
  {
   "cell_type": "code",
   "execution_count": 92,
   "metadata": {},
   "outputs": [
    {
     "name": "stdout",
     "output_type": "stream",
     "text": [
      "Help on built-in function abs in module builtins:\n",
      "\n",
      "abs(x, /)\n",
      "    Return the absolute value of the argument.\n",
      "\n"
     ]
    }
   ],
   "source": [
    "help(abs)"
   ]
  },
  {
   "cell_type": "code",
   "execution_count": 93,
   "metadata": {},
   "outputs": [],
   "source": [
    "abs?"
   ]
  },
  {
   "cell_type": "code",
   "execution_count": 94,
   "metadata": {},
   "outputs": [],
   "source": [
    "np.sqrt?"
   ]
  }
 ],
 "metadata": {
  "kernelspec": {
   "display_name": "Python 3",
   "language": "python",
   "name": "python3"
  },
  "language_info": {
   "codemirror_mode": {
    "name": "ipython",
    "version": 3
   },
   "file_extension": ".py",
   "mimetype": "text/x-python",
   "name": "python",
   "nbconvert_exporter": "python",
   "pygments_lexer": "ipython3",
   "version": "3.6.4"
  }
 },
 "nbformat": 4,
 "nbformat_minor": 2
}
