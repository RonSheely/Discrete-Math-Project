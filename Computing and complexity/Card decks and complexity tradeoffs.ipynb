{
 "cells": [
  {
   "cell_type": "markdown",
   "metadata": {},
   "source": [
    "# Counting cards"
   ]
  },
  {
   "cell_type": "markdown",
   "metadata": {},
   "source": [
    "Let's do a few experiments with a virtual deck of cards to tackle some problems that don't have closed form solutions and that would be impractical to do manually. \n",
    "\n",
    "We'll start with a relatively simple model and then make things more flexible and sophisticated. Along the way, we'll revisit the combinatoric functions and illustrate the use of the Python `dictionary`.\n",
    "\n",
    "Beyond the concrete examples, we also consider some broader questions regarding the representation of our model and the tradeoffs that affect performance, flexibility and programming difficulty."
   ]
  },
  {
   "cell_type": "markdown",
   "metadata": {},
   "source": [
    "## Hands that sum to *n* with no face cards"
   ]
  },
  {
   "cell_type": "markdown",
   "metadata": {},
   "source": [
    "How many ways are there to deal a hand of five cards from a standard 52-card deck such that the cards sum to a target value and the hand contains no face cards (jack, queen, king, ace)? \n",
    "\n",
    "At first glance, this looks like the well known combinatoric problem of partitioning a set of $n$ indistibguishable items into $k$ distinguishable bins, which has a simple closed form solution. Going deeper, we see that there are some important differences. For example, we have the constraints that card values are limited to two through ten and no value can appear more than four times - if our target is 35, this excludes solutions based on sets of card values such as (1, 1, 1, 1, 31) and (7, 7, 7, 7, 7).\n",
    "\n",
    "This really does look like a case where we need a computational solution.\n",
    "\n",
    "Since we can omit the face cards and only need the card values, we can represent our simplified deck using a list where the integers two through ten each appear four times. We'll then use the `combinations()` function to generate all five-card hands and count the number of hands that sum to our target."
   ]
  },
  {
   "cell_type": "code",
   "execution_count": null,
   "metadata": {},
   "outputs": [],
   "source": [
    "cards_simple = [2, 3, 4, 5, 6, 7, 8, 9, 10] * 4\n",
    "print(cards_simple)"
   ]
  },
  {
   "cell_type": "markdown",
   "metadata": {},
   "source": [
    "### Will this really work?"
   ]
  },
  {
   "cell_type": "markdown",
   "metadata": {},
   "source": [
    "Excellent question! The `combinations()` function does not allow for the repeated selection of elements. It seems that we would need to use `combinations_with_replacement()`. But allowing replacement isn't quite right either since it would allow us to generate forbidden hands such as (2, 2, 2, 2, 2).\n",
    "\n",
    "So how do we generate (2, 2, 2, 2, 3), (2, 2, 2, 2, 4), ... (2, 2, 2, 2, 10) while avoiding (2, 2, 2, 2, 2)? The answer lies in how the `combinations()` function works. Rather than selecting elements from our list based on value, it selects based on position. The 1st, 2nd, 3rd, and 4th instances of '2' in our list are all distinct elements.\n",
    "\n",
    "Let's give this a try. Afterwards, we'll confirm using a more realistic representation of a deck of cards that we got the right answer."
   ]
  },
  {
   "cell_type": "code",
   "execution_count": null,
   "metadata": {},
   "outputs": [],
   "source": [
    "from itertools import product, permutations, combinations, combinations_with_replacement"
   ]
  },
  {
   "cell_type": "code",
   "execution_count": null,
   "metadata": {},
   "outputs": [],
   "source": [
    "%%time\n",
    "target = 35 # Set our target value\n",
    "ncards = 5  # Size of hand\n",
    "\n",
    "count = 0\n",
    "for hand in combinations(cards_simple, ncards):\n",
    "    if sum(hand) == target:\n",
    "        count += 1\n",
    "        \n",
    "print(count)"
   ]
  },
  {
   "cell_type": "markdown",
   "metadata": {},
   "source": [
    "We don't want to print out all the hands, but let's peek at the first few to convince ourselves that things look reasonable."
   ]
  },
  {
   "cell_type": "code",
   "execution_count": null,
   "metadata": {},
   "outputs": [],
   "source": [
    "%%time\n",
    "target = 35\n",
    "ncards = 5  # Size of hand\n",
    "\n",
    "count = 0\n",
    "for hand in combinations(cards_simple, ncards):\n",
    "    if sum(hand) == target:\n",
    "        count += 1\n",
    "        print(hand)\n",
    "    if count >= 10:\n",
    "        break"
   ]
  },
  {
   "cell_type": "markdown",
   "metadata": {},
   "source": [
    "The output is a little confusing since the hand (2, 3, 10, 10, 10) appears three times, but they really are distinct and corespond to choosing the three tens from different subsets of the suits (e.g. clubs, diamonds and hearts vs. clubs, diamonds and spades)."
   ]
  },
  {
   "cell_type": "markdown",
   "metadata": {},
   "source": [
    "## Generalizing to hands that sum to *n*, face cards allowed"
   ]
  },
  {
   "cell_type": "markdown",
   "metadata": {},
   "source": [
    "Let's generalize to hands that include face cards, using the standard values of 10 for jacks, queens and kings and 11 for aces. Our simple representation of the deck still works since we don't care about any property of the card except its value."
   ]
  },
  {
   "cell_type": "code",
   "execution_count": null,
   "metadata": {},
   "outputs": [],
   "source": [
    "# The 2nd, 3rd and 4th '10' correspond to jack, queen, king\n",
    "cards_simple = [2, 3, 4, 5, 6, 7, 8, 9, 10, 10, 10, 10, 11] * 4\n",
    "print(cards_simple)"
   ]
  },
  {
   "cell_type": "code",
   "execution_count": null,
   "metadata": {},
   "outputs": [],
   "source": [
    "%%time\n",
    "target = 35 # Set our target value\n",
    "ncards = 5  # Size of hand\n",
    "\n",
    "count = 0\n",
    "for hand in combinations(cards_simple, ncards):\n",
    "    if sum(hand) == target:\n",
    "        count += 1\n",
    "        \n",
    "print(count)"
   ]
  },
  {
   "cell_type": "markdown",
   "metadata": {},
   "source": [
    "## Creating a more sophisticated deck of cards"
   ]
  },
  {
   "cell_type": "markdown",
   "metadata": {},
   "source": [
    "Up to this point, we've asked questions that only depend on the values for the cards. If we want to ask more general questions, we'll need a realistic representation of the deck. One way, illustrated below, is to create a list of cards and a pair of dictionaries that associate values and suits with the cards.\n",
    "\n",
    "+ Abbreviate clubs, diamonds, hearts, spades as C, D, H, S\n",
    "+ Abbreviate jack, queen, king, ace as J, Q, K, A\n",
    "+ Create card name by concatenating rank and suit, for example\n",
    "    + two of clubs $\\rightarrow$ 2C\n",
    "    + king of hearts $\\rightarrow$ KH\n",
    "\n",
    "This wasn't the only way to represent the deck. Another approach might have been to use Python's `namedtuple` type, but we wanted to stick with something that should already be familiar."
   ]
  },
  {
   "cell_type": "code",
   "execution_count": null,
   "metadata": {},
   "outputs": [],
   "source": [
    "card_values = {'2C':2,  '3C':3,  '4C':4,  '5C':5,  '6C':6,  '7C':7, '8C':8, \n",
    "               '9C':9, '10C':10, 'JC':10, 'QC':10, 'KC':10, 'AC':11,\n",
    "               '2D':2,  '3D':3,  '4D':4,  '5D':5,  '6D':6,  '7D':7, '8D':8, \n",
    "               '9D':9, '10D':10, 'JD':10, 'QD':10, 'KD':10, 'AD':11,\n",
    "               '2H':2,  '3H':3,  '4H':4,  '5H':5,  '6H':6,  '7H':7, '8H':8, \n",
    "               '9H':9, '10H':10, 'JH':10, 'QH':10, 'KH':10, 'AH':11,\n",
    "               '2S':2,  '3S':3,  '4S':4,  '5S':5,  '6S':6,  '7S':7, '8S':8, \n",
    "               '9S':9, '10S':10, 'JS':10, 'QS':10, 'KS':10, 'AS':11}\n",
    "\n",
    "card_suits = {'2C':'C',  '3C':'C', '4C':'C', '5C':'C', '6C':'C', '7C':'C', '8C':'C', \n",
    "              '9C':'C', '10C':'C', 'JC':'C', 'QC':'C', 'KC':'C', 'AC':'C',\n",
    "              '2D':'D',  '3D':'D', '4D':'D', '5D':'D', '6D':'D', '7D':'D', '8D':'D', \n",
    "              '9D':'D', '10D':'D', 'JD':'D', 'QD':'D', 'KD':'D', 'AD':'D',\n",
    "              '2H':'H',  '3H':'H', '4H':'H', '5H':'H', '6H':'H', '7H':'H', '8H':'H', \n",
    "              '9H':'H', '10H':'H', 'JH':'H', 'QH':'H', 'KH':'H', 'AH':'H',\n",
    "              '2S':'S',  '3S':'S', '4S':'S', '5S':'S', '6S':'S', '7S':'S', '8S':'S', \n",
    "              '9S':'S', '10S':'S', 'JS':'S', 'QS':'S', 'KS':'S', 'AS':'S'}\n",
    "\n",
    "cards = card_values.keys()"
   ]
  },
  {
   "cell_type": "markdown",
   "metadata": {},
   "source": [
    "### Revisiting hands that sum to *n*, face cards allowed"
   ]
  },
  {
   "cell_type": "markdown",
   "metadata": {},
   "source": [
    "Starting with the code that we used earlier, we make a few modifications so that we iterate over the cards in a hand and accumulate the sum of values. If we did everything correctly and used the same target value, we should get the same answer. Code has also been modified to print out the first few hands."
   ]
  },
  {
   "cell_type": "code",
   "execution_count": null,
   "metadata": {},
   "outputs": [],
   "source": [
    "%%time\n",
    "target = 35 # Set our target value\n",
    "ncards = 5  # Size of hand\n",
    "print_hands = 15\n",
    "\n",
    "count = 0\n",
    "for hand in combinations(cards, ncards):\n",
    "    handsum = 0\n",
    "    for card in hand:\n",
    "        handsum += card_values[card]\n",
    "    if handsum == target:\n",
    "        count += 1\n",
    "        if count <= print_hands:\n",
    "            print(hand)\n",
    "        \n",
    "print()\n",
    "print(count)"
   ]
  },
  {
   "cell_type": "markdown",
   "metadata": {},
   "source": [
    "### Revisiting hands that sum to *n* with no face cards"
   ]
  },
  {
   "cell_type": "markdown",
   "metadata": {},
   "source": [
    "Going back to our original problem, but using the more realistic deck, we need to make a few more changes to exclude the face cards."
   ]
  },
  {
   "cell_type": "code",
   "execution_count": null,
   "metadata": {},
   "outputs": [],
   "source": [
    "%%time \n",
    "target = 35\n",
    "ncards = 5  # Size of hand\n",
    "print_hands = 15\n",
    "\n",
    "face_cards = ['JC', 'JD', 'JH', 'JS', 'QC', 'QD', 'QH', 'QS', \n",
    "              'KC', 'KD', 'KH', 'KS', 'AC', 'AD', 'AH', 'AS']\n",
    "\n",
    "count = 0\n",
    "for hand in combinations(cards, ncards):\n",
    "    handsum = 0\n",
    "    for card in hand:\n",
    "        if card in (face_cards):\n",
    "            handsum = -1\n",
    "            break\n",
    "        else:\n",
    "            handsum += card_values[card]\n",
    "    if handsum == target:\n",
    "        count += 1\n",
    "        if count <= print_hands:\n",
    "            print(hand)\n",
    "        \n",
    "print()\n",
    "print(count)"
   ]
  },
  {
   "cell_type": "markdown",
   "metadata": {},
   "source": [
    "### Hands that sum to *n* with restrictions on suit"
   ]
  },
  {
   "cell_type": "markdown",
   "metadata": {},
   "source": [
    "We didn't need the more realistic deck of cards to answer our original questions - number of hands that sum to *n*, with or without face cards. Of course, if we wanted to inspect the hands, it's informative to see the full card names rather than just the values. ('2C', '3C', '10C', '10D', '10H') is more useful than (2, 3, 10, 10, 10)\n",
    "\n",
    "Let's now look at a problem that considers suit, by adding the restriction that the hand must contain cards from at least *m* suits. We do this by adding the suit of each card in the hand to a set (thereby, avoiding having a suit counted multiple times) and then testing both the sum of values and number of suits before incrementing the count."
   ]
  },
  {
   "cell_type": "code",
   "execution_count": null,
   "metadata": {},
   "outputs": [],
   "source": [
    "%%time\n",
    "target = 35    # Set our target value\n",
    "ncards = 5  # Size of hand\n",
    "min_suits = 4  # Set the minimum number of suits in hand\n",
    "print_hands = 15\n",
    "\n",
    "count = 0\n",
    "for hand in combinations(cards, ncards):\n",
    "    handsum = 0\n",
    "    suits = set()\n",
    "    for card in hand:\n",
    "        handsum += card_values[card]\n",
    "        suits.add(card_suits[card])\n",
    "    if handsum == target and len(suits) >= min_suits:\n",
    "        count += 1\n",
    "        if count <= print_hands:\n",
    "            print(hand)\n",
    "        \n",
    "print()\n",
    "print(count)"
   ]
  },
  {
   "cell_type": "markdown",
   "metadata": {},
   "source": [
    "## Lessons learned"
   ]
  },
  {
   "cell_type": "markdown",
   "metadata": {},
   "source": [
    "Using a more realistic representation of the deck of cards allows us to answer more questions, but it comes with a cost. Not only is the code more complex, but for problems that can be solved using the simpler representation, the time to solution is longer.\n",
    "\n",
    "Our recommendation is to use the simplest representation that suits your needs. If you were already given a more complex representation of your system, consider generating a simpler representation from it."
   ]
  },
  {
   "cell_type": "markdown",
   "metadata": {},
   "source": [
    "## Exercises"
   ]
  },
  {
   "cell_type": "markdown",
   "metadata": {},
   "source": [
    "(1) Go back to a few of the examples and look at the run time for smaller or larger hands (don't go too large since compute time will take too long).\n",
    "\n",
    "(2) Starting with the full representation for the deck of cards, generate a simplified representation that that can be used to solve the \"Hands that sum to *n* with no face cards\" problem. Hint: use the dictionary `.values()` method and then the `del()` function to remove unwanted cards.\n",
    "\n",
    "(3) Ignoring suit, use the `combinations_with_replacement()` function to count \"hands that sum to *n*\". Compare with the results you got when we used the restriction imposed by a deck of cards. Note that you can operate on lists where each item appears only once (e.g. \\[2, 3, 4, 5, 6, 7, 8, 9, 10\\])"
   ]
  },
  {
   "cell_type": "code",
   "execution_count": null,
   "metadata": {},
   "outputs": [],
   "source": []
  },
  {
   "cell_type": "code",
   "execution_count": null,
   "metadata": {},
   "outputs": [],
   "source": []
  },
  {
   "cell_type": "code",
   "execution_count": null,
   "metadata": {},
   "outputs": [],
   "source": []
  }
 ],
 "metadata": {
  "kernelspec": {
   "display_name": "Python 3",
   "language": "python",
   "name": "python3"
  },
  "language_info": {
   "codemirror_mode": {
    "name": "ipython",
    "version": 3
   },
   "file_extension": ".py",
   "mimetype": "text/x-python",
   "name": "python",
   "nbconvert_exporter": "python",
   "pygments_lexer": "ipython3",
   "version": "3.6.4"
  }
 },
 "nbformat": 4,
 "nbformat_minor": 2
}
