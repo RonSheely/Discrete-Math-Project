{
 "cells": [
  {
   "cell_type": "markdown",
   "metadata": {},
   "source": [
    "# Graphing and plotting exercises"
   ]
  },
  {
   "cell_type": "markdown",
   "metadata": {},
   "source": [
    "This notebook contains a few exercises to get you more familiar with Python's graphing and plotting capabilities. Feel free to borrow (cut-and-paste) code from the other notebooks. No one does this from scratch!\n",
    "\n",
    "Note that the solutions only have the basic functionality to get you started. You'll need to add labels, legends, titles, etc. to make the graphs more useful."
   ]
  },
  {
   "cell_type": "code",
   "execution_count": null,
   "metadata": {},
   "outputs": [],
   "source": [
    "# Boiler plate for using matplotlib and numpy\n",
    "%matplotlib inline\n",
    "import matplotlib as mpl\n",
    "mpl.get_backend()\n",
    "import matplotlib.pyplot as plt\n",
    "import numpy as np"
   ]
  },
  {
   "cell_type": "markdown",
   "metadata": {},
   "source": [
    "## Scatter plot of health care spending vs. life expectancy"
   ]
  },
  {
   "cell_type": "markdown",
   "metadata": {},
   "source": [
    "Create a scatter plot showing life expectancy vs. per capita health care spending. You can start bare bones and then add axis labels, titles, legends. Data provide to get you started. Data provide to get you started.\n",
    "\n",
    "Bonus - add lables to the data points following suggestions from Stackoverflow\n",
    "\n",
    "https://stackoverflow.com/questions/14432557/matplotlib-scatter-plot-with-different-text-at-each-data-point"
   ]
  },
  {
   "cell_type": "code",
   "execution_count": null,
   "metadata": {},
   "outputs": [],
   "source": [
    "country = ['USA', 'Canada', 'France', 'Japan', 'Mexico',\n",
    "          'Korea', 'Spain', 'Germany', 'Chile', 'Finland']\n",
    "\n",
    "health_expend = [9892, 4753, 4600, 4519, 1080, \n",
    "                 2729, 3248, 5551, 1977, 4033]\n",
    "\n",
    "life_expect = [68.1, 72.3, 72.6, 74.9, 67.4,\n",
    "               73.2, 72.4, 71.3, 70.4, 71.0]"
   ]
  },
  {
   "cell_type": "code",
   "execution_count": null,
   "metadata": {},
   "outputs": [],
   "source": [
    "f, ax = plt.subplots()\n",
    "ax.scatter(health_expend, life_expect)\n",
    "plt.show()"
   ]
  },
  {
   "cell_type": "markdown",
   "metadata": {},
   "source": [
    "## Line plot of USA and Mexico polulations"
   ]
  },
  {
   "cell_type": "markdown",
   "metadata": {},
   "source": [
    "Create a line chart showing populations of USA and Mexico over time. You can start bare bones and then add axis labels, titles, legends. Data provide to get you started."
   ]
  },
  {
   "cell_type": "code",
   "execution_count": null,
   "metadata": {},
   "outputs": [],
   "source": [
    "year = [1900, 1910, 1920, 1930, 1940, 1950, 1960, 1970, \n",
    "        1980, 1990, 2000, 2010]\n",
    "\n",
    "USA = [76, 92, 106, 123, 132, 151, 179, 203, 226, 248, 281, 308]\n",
    "\n",
    "Mexico = [14, 15, 14, 16, 19, 26, 35, 48, 67, 81, 97, 114, ]"
   ]
  },
  {
   "cell_type": "code",
   "execution_count": null,
   "metadata": {},
   "outputs": [],
   "source": [
    "f, ax = plt.subplots()\n",
    "plt.plot(year, USA, year, Mexico)\n",
    "plt.show()"
   ]
  },
  {
   "cell_type": "markdown",
   "metadata": {},
   "source": [
    "## Bar charts of North American polulations"
   ]
  },
  {
   "cell_type": "markdown",
   "metadata": {},
   "source": [
    "Using the same population data as above, create the following bar charts\n",
    "\n",
    "(1) Population of USA vs time\n",
    "\n",
    "(2) Population of Mexico vs time\n",
    "\n",
    "(3) Population of USA and Mexico over time\n",
    "\n",
    "Hint - bar charts are a little tricky. You need to specify the labels and the positions of the bars."
   ]
  },
  {
   "cell_type": "code",
   "execution_count": null,
   "metadata": {},
   "outputs": [],
   "source": [
    "x_pos = np.arange(len(USA)) # creating an array of integer positions\n",
    "\n",
    "f, ax = plt.subplots()\n",
    "ax.bar(x_pos, USA, align='center')\n",
    "ax.set_xticks(x_pos)\n",
    "ax.set_xticklabels(year)\n",
    "plt.show()"
   ]
  },
  {
   "cell_type": "code",
   "execution_count": null,
   "metadata": {},
   "outputs": [],
   "source": [
    "x_pos = np.arange(len(Mexico))\n",
    "\n",
    "f, ax = plt.subplots()\n",
    "ax.bar(x_pos, Mexico, align='center')\n",
    "ax.set_xticks(x_pos)\n",
    "ax.set_xticklabels(year)\n",
    "plt.show()"
   ]
  },
  {
   "cell_type": "code",
   "execution_count": null,
   "metadata": {},
   "outputs": [],
   "source": [
    "x_pos = np.arange(len(USA))\n",
    "\n",
    "f, ax = plt.subplots()\n",
    "ax.bar(x_pos+0.2, USA, width=0.35, align='center')\n",
    "ax.bar(x_pos-0.2, Mexico, width=0.35, align='center')\n",
    "ax.set_xticks(x_pos)\n",
    "ax.set_xticklabels(year)\n",
    "plt.show()"
   ]
  },
  {
   "cell_type": "markdown",
   "metadata": {},
   "source": [
    "## Pie chart of population by continent"
   ]
  },
  {
   "cell_type": "markdown",
   "metadata": {},
   "source": [
    "Create a pie chart showing population by continent. Lists of continents and populations (in millions) provided to get you started. As a first pass, just generate a basic pie chart using the defaults. Then try customizing colors, exploding wedges or adding a title. Data provided to get you started."
   ]
  },
  {
   "cell_type": "code",
   "execution_count": null,
   "metadata": {},
   "outputs": [],
   "source": [
    "continents = ['Asia', 'Africa', 'Europe', 'North America', \n",
    "              'South America', 'Oceania']\n",
    "populations = [4581, 1216, 738, 579, 422, 38]"
   ]
  },
  {
   "cell_type": "code",
   "execution_count": null,
   "metadata": {},
   "outputs": [],
   "source": [
    "f, ax = plt.subplots()\n",
    "ax.pie(populations, labels=continents)\n",
    "ax.axis('equal')\n",
    "plt.show()"
   ]
  }
 ],
 "metadata": {
  "kernelspec": {
   "display_name": "Python 3",
   "language": "python",
   "name": "python3"
  },
  "language_info": {
   "codemirror_mode": {
    "name": "ipython",
    "version": 3
   },
   "file_extension": ".py",
   "mimetype": "text/x-python",
   "name": "python",
   "nbconvert_exporter": "python",
   "pygments_lexer": "ipython3",
   "version": "3.6.4"
  }
 },
 "nbformat": 4,
 "nbformat_minor": 2
}
