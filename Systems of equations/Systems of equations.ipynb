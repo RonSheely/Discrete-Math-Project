{
 "cells": [
  {
   "cell_type": "markdown",
   "metadata": {},
   "source": [
    "# Solving systems of equations"
   ]
  },
  {
   "cell_type": "markdown",
   "metadata": {},
   "source": [
    "We can easily solve systems of equations using the functionality in Python's numpy package.\n",
    "\n",
    "As a bonus, you'll be getting access to state of the art numerical algorithms. Numpy leverages routines from Intel's Math Kernel Library (MKL), which were developed by some of the world's best applied mathematicians and optimized for performance by Intel's computational scientists.\n",
    "\n",
    "Although we'll be sticking to some small problems in a few variables, these routines are often used to solve problems in tens of thousands of unknowns."
   ]
  },
  {
   "cell_type": "code",
   "execution_count": null,
   "metadata": {},
   "outputs": [],
   "source": [
    "import numpy as np"
   ]
  },
  {
   "cell_type": "markdown",
   "metadata": {},
   "source": [
    "## Two equations in two unknowns"
   ]
  },
  {
   "cell_type": "markdown",
   "metadata": {},
   "source": [
    "Let's start with a simple case involving two equations in two unknowns\n",
    "\n",
    "$3x + 5y = 13$  \n",
    "$2x + 8y = 18$\n",
    "\n",
    "This is small enough to do by hand, but let's look at how we'll do this programmatically. This is a concrete example of a 2x2 *linear algebra* problem of the general form\n",
    "\n",
    "${\\bf Ax = b}$,\n",
    "\n",
    "where ${\\bf A}$ is the matrix of coefficients, ${\\bf x}$ is the vector of solutions and ${\\bf b}$ is the right hand sides of the equations.\n",
    "\n",
    "In order to use numpy, we need to get the data into a format that we can feed into our solver. We'll represent ${\\bf b}$ as a one-dimensional numpy array and ${\\bf A}$ as a two-dimensional numpy array using the same syntax that we use for lists and lists-of-lists."
   ]
  },
  {
   "cell_type": "code",
   "execution_count": null,
   "metadata": {},
   "outputs": [],
   "source": [
    "A = np.array([ [3,5], \n",
    "               [2,8] ])\n",
    "b = np.array([13,18])"
   ]
  },
  {
   "cell_type": "markdown",
   "metadata": {},
   "source": [
    "The `np.array()` function converts the lists or list-of-lists (or lists-of-lists-of-lists ...) to numpy's array type (`ndarray`). Why not just use lists? The reason is that the `ndarray` adds a few restrictions that we don't have with lists, namely that all the elements must be of the same basic numerical type. This in turn enables the math libraries to be much more efficient.\n",
    "\n",
    "We broke up the first assignment over two lines to make it look more like a matrix, but we could just as well condense to a single line. Note that we used a list of two items, each of which is a two-item list."
   ]
  },
  {
   "cell_type": "code",
   "execution_count": null,
   "metadata": {},
   "outputs": [],
   "source": [
    "A = np.array([[3,5], [2,8]])\n",
    "b = np.array([13,18])"
   ]
  },
  {
   "cell_type": "markdown",
   "metadata": {},
   "source": [
    "To solve this pair of equations, we pass the coefficient matrix (${\\bf A}$) and vector of right hand sides (${\\bf b}$) to the numpy function `lingalg.solve()`, which returns the solutions."
   ]
  },
  {
   "cell_type": "code",
   "execution_count": null,
   "metadata": {},
   "outputs": [],
   "source": [
    "solution = np.linalg.solve(A,b)\n",
    "print('[x y] = ', solution)\n",
    "print('x = ', solution[0])\n",
    "print('y = ', solution[1])"
   ]
  },
  {
   "cell_type": "markdown",
   "metadata": {},
   "source": [
    "## Solving three equations in three unkowns"
   ]
  },
  {
   "cell_type": "markdown",
   "metadata": {},
   "source": [
    "We can easily extend to three equations in three unknowns\n",
    "\n",
    "$2x + 2y + 3z= 25$  \n",
    "$6x + 4y + 2z= 34$  \n",
    "$5x + 2y + 3z= 31$  "
   ]
  },
  {
   "cell_type": "code",
   "execution_count": null,
   "metadata": {},
   "outputs": [],
   "source": [
    "A = np.array([[2,2,3], [6,4,2], [5,2,3]])\n",
    "b = np.array([25,34,31])"
   ]
  },
  {
   "cell_type": "code",
   "execution_count": null,
   "metadata": {},
   "outputs": [],
   "source": [
    "solution = np.linalg.solve(A,b)\n",
    "print('[x y z] = ', solution)\n",
    "print('x = ', solution[0])\n",
    "print('y = ', solution[1])\n",
    "print('z = ', solution[2])"
   ]
  },
  {
   "cell_type": "markdown",
   "metadata": {},
   "source": [
    "## Exercises"
   ]
  },
  {
   "cell_type": "markdown",
   "metadata": {},
   "source": [
    "(1) What is the type of \n",
    "\n",
    "+ The object returned by `np.linalg.solve()`\n",
    "+ The matrix ${\\bf A}$\n",
    "+ The vector ${\\bf b}$\n",
    "\n",
    "Hint - use the `type()` function and/or `%whos` magic command\n",
    "\n",
    "(2) Use `np.matmul(A, solution)` to confirm that you correctly solved the problem. It should return a vector that is the same as the vector of right hand sides of the equations.\n",
    "\n",
    "(3) Setup and solve a problem of four equations in four unknowns\n",
    "\n",
    "(4) Setup and solve a problem of five equations in five unknowns\n",
    "\n",
    "(5) Try solving the following pair of equations. What error message do you get and why to you think that this particular pair of equations *broke* the solver?\n",
    "\n",
    "$3x + 5y = 13$  \n",
    "$6x + 10y = 26$\n",
    "\n",
    "Bonus: Depending on the course you're teaching, the students may not be ready to deal with matrices and vectors. If you were given the equations in the form of strings, how would you go about populating the matrix ${\\bf A}$ and vector ${\\bf b}$ (Hint - you might need to use the `split()` function)?\n",
    "\n",
    "```python\n",
    "eqn1 = '3x + 5y = 13'\n",
    "eqn2 = '2x + 8y = 18'\n",
    "```"
   ]
  },
  {
   "cell_type": "code",
   "execution_count": null,
   "metadata": {},
   "outputs": [],
   "source": []
  }
 ],
 "metadata": {
  "kernelspec": {
   "display_name": "Python 3",
   "language": "python",
   "name": "python3"
  },
  "language_info": {
   "codemirror_mode": {
    "name": "ipython",
    "version": 3
   },
   "file_extension": ".py",
   "mimetype": "text/x-python",
   "name": "python",
   "nbconvert_exporter": "python",
   "pygments_lexer": "ipython3",
   "version": "3.6.4"
  }
 },
 "nbformat": 4,
 "nbformat_minor": 2
}
