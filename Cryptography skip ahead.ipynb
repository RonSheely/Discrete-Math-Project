{
 "cells": [
  {
   "cell_type": "markdown",
   "metadata": {},
   "source": [
    "# Cryptography skip-ahead"
   ]
  },
  {
   "cell_type": "markdown",
   "metadata": {},
   "source": [
    "One simple way of encrypting a message is to use a \"skip-ahead\" cipher. This is easier to implement if we start counting with zero, which is also consistent with Python's numbering scheme.\n",
    "\n",
    "Consider a concrete example where the 0th character remains in place, the 1st character moves to position 4, the 2nd character to position 8 and so on. Once characters are mapped to positions that exceed the length of the original string, we wrap around to the beginning using modulo arithmetic with a period equal to the string length. This results in an encrypted string of the same length as the original.\n",
    "\n",
    "Recall that Python strings are immutable. We can access characters by their location in the string, but we can't update individual characters within the string.\n",
    "\n",
    "```python\n",
    "string = 'ABCDEFG'\n",
    "x = string[3]   # OK\n",
    "string[3] = 'Z' # Not OK\n",
    "```\n",
    "\n",
    "To get around this limtation, we'll incrementally build our encrpyted string as an array of characters and then join the array elements into a single string when we're done."
   ]
  },
  {
   "cell_type": "markdown",
   "metadata": {},
   "source": [
    "## Simple implementation"
   ]
  },
  {
   "cell_type": "markdown",
   "metadata": {},
   "source": [
    "Consider encrypting the string \"THEDOGBARKS\" using a skip-ahead 4 cipher. We start by defining an array of the same length as the original string and populate with asterisks. We could have used any character, but this will turn out to be useful when we generalize later. \n",
    "\n",
    "The crux of the algorithm is mapping the characters of the string to the array elements using modular arithmetic. Once we're done, the array elements are joined using an empty string to form the encrpyted message.\n",
    "\n",
    "To help illustrate the encrpytion process, we print each character and show how it maps to the location in the encrypted string."
   ]
  },
  {
   "cell_type": "code",
   "execution_count": null,
   "metadata": {},
   "outputs": [],
   "source": [
    "mystr = 'THEDOGBARKS'\n",
    "\n",
    "# Array initialization shortcut - '*' 11 times\n",
    "temparr = ['*'] * 11\n",
    "\n",
    "for i,c in enumerate(mystr):\n",
    "    print(c, ':', i, '-->', i*4 % 11)\n",
    "    temparr[i*4 % 11] = c\n",
    "    \n",
    "# Joining using the empty string ''\n",
    "encrypted = ''.join(temparr)\n",
    "print(encrypted)"
   ]
  },
  {
   "cell_type": "markdown",
   "metadata": {},
   "source": [
    "## Generalized implementation"
   ]
  },
  {
   "cell_type": "markdown",
   "metadata": {},
   "source": [
    "We can easily generalize by creating a function that accepts the string to be encrypted along with the skip ahead length and returns the encrypted string. Instead of hardcoding the period of the modular arithmetic, we'll get the string length on the fly. To decrypt the string, we create a new function that puts the modular arithmetic on the right hand side (RHS) instead of the left."
   ]
  },
  {
   "cell_type": "code",
   "execution_count": null,
   "metadata": {},
   "outputs": [],
   "source": [
    "def skipahead(s, n):\n",
    "    temparr = ['*']*len(s)\n",
    "    for i,c in enumerate(s):\n",
    "        temparr[i*n % len(s)] = c\n",
    "    return ''.join(temparr)"
   ]
  },
  {
   "cell_type": "code",
   "execution_count": null,
   "metadata": {},
   "outputs": [],
   "source": [
    "def skipback(s, n):\n",
    "    temparr = ['*']*len(s)\n",
    "    for i,c in enumerate(s):\n",
    "        temparr[i] = s[i*n % len(s)]\n",
    "    return ''.join(temparr)"
   ]
  },
  {
   "cell_type": "markdown",
   "metadata": {},
   "source": [
    "## Exercise"
   ]
  },
  {
   "cell_type": "markdown",
   "metadata": {},
   "source": [
    "Try encrpyting and decrypting the string using different values for the skip-ahead length, including zero and negative values. Where does the encryption scheme fail or breakdown?\n",
    "\n",
    "What happens if the skip-ahead encryption is applied multiple times? Is there any benefit to doing this? For example\n",
    "\n",
    "```python\n",
    "encrypted = skipahead(mystr, 2)\n",
    "encrypted = skipahead(encrypted, 6)\n",
    "```\n",
    "\n",
    "Try combining the `skipahead` and `skipback` into a single function that can be used to encrypt or decrypt a string."
   ]
  }
 ],
 "metadata": {
  "kernelspec": {
   "display_name": "Python 3",
   "language": "python",
   "name": "python3"
  },
  "language_info": {
   "codemirror_mode": {
    "name": "ipython",
    "version": 3
   },
   "file_extension": ".py",
   "mimetype": "text/x-python",
   "name": "python",
   "nbconvert_exporter": "python",
   "pygments_lexer": "ipython3",
   "version": "3.6.4"
  }
 },
 "nbformat": 4,
 "nbformat_minor": 2
}
